{
 "cells": [
  {
   "cell_type": "code",
   "execution_count": 1,
   "metadata": {},
   "outputs": [],
   "source": [
    "import re\n",
    "from pathlib import Path\n",
    "import numpy as np\n",
    "import matplotlib.pyplot as plt\n",
    "from sklearn.neural_network import MLPClassifier\n",
    "from sklearn.neighbors import KNeighborsClassifier\n",
    "from sklearn.metrics import classification_report, f1_score"
   ]
  },
  {
   "cell_type": "code",
   "execution_count": 2,
   "metadata": {},
   "outputs": [],
   "source": [
    "train_path = Path(\"./data/train\")\n",
    "test_path = Path(\"./data/test\")\n",
    "y_ptn = re.compile(\"(\\d{1}).*\\.txt\")\n",
    "\n",
    "def load1(path: Path) -> list[np.ndarray, np.ndarray]:\n",
    "  y = np.zeros(10, dtype=np.uint8)\n",
    "  y[int(y_ptn.match(path.name).group(1))] = 1\n",
    "  lines = path.read_text().removesuffix('\\n').split('\\n')\n",
    "  for i, line in enumerate(lines):\n",
    "    lines[i] = list(line)\n",
    "  x = np.array(lines, dtype=np.uint8)\n",
    "  return x.ravel(), y\n",
    "\n",
    "def loadDir(path: Path) -> list[np.ndarray, np.ndarray]:\n",
    "  X = []\n",
    "  Y = []\n",
    "  for i in path.iterdir():\n",
    "    x, y = load1(i)\n",
    "    X.append(x)\n",
    "    Y.append(y)\n",
    "  return np.vstack(X), np.vstack(Y)"
   ]
  },
  {
   "cell_type": "code",
   "execution_count": 4,
   "metadata": {},
   "outputs": [],
   "source": [
    "trainX, trainY = loadDir(train_path)\n",
    "testX, testY = loadDir(test_path)"
   ]
  },
  {
   "cell_type": "code",
   "execution_count": 5,
   "metadata": {},
   "outputs": [
    {
     "name": "stdout",
     "output_type": "stream",
     "text": [
      "MLP F1-Score: 0.9735835761665388\n"
     ]
    }
   ],
   "source": [
    "# MLP\n",
    "mlp = MLPClassifier(\n",
    "  hidden_layer_sizes = (100, 100),\n",
    "  activation = \"relu\",\n",
    "  solver = \"adam\",\n",
    "  alpha = 0.00001,\n",
    "  learning_rate = \"adaptive\",\n",
    "  learning_rate_init = 0.005,\n",
    "  max_iter = 200,\n",
    "  momentum = 0.9\n",
    ")\n",
    "mlp.fit(trainX, trainY)\n",
    "mlp_pred = mlp.predict(testX)\n",
    "print(\"MLP F1-Score:\", f1_score(testY, mlp_pred, average = 'weighted'), sep=' ')"
   ]
  },
  {
   "cell_type": "code",
   "execution_count": 6,
   "metadata": {},
   "outputs": [
    {
     "name": "stdout",
     "output_type": "stream",
     "text": [
      "KNN F1-Score: 0.9861876912136871\n"
     ]
    }
   ],
   "source": [
    "# KNN\n",
    "knn = KNeighborsClassifier(n_neighbors=1, n_jobs=-1)\n",
    "knn.fit(trainX, trainY)\n",
    "knn_pred = knn.predict(testX)\n",
    "print(\"KNN F1-Score:\", f1_score(testY, knn_pred, average = 'weighted'), sep=' ')"
   ]
  }
 ],
 "metadata": {
  "interpreter": {
   "hash": "85ca0bb579958246286b95c44664a666ac4a968c6732d99bda48dfe0ff58c246"
  },
  "kernelspec": {
   "display_name": "Python 3.9.10 64-bit ('3.9.10')",
   "language": "python",
   "name": "python3"
  },
  "language_info": {
   "codemirror_mode": {
    "name": "ipython",
    "version": 3
   },
   "file_extension": ".py",
   "mimetype": "text/x-python",
   "name": "python",
   "nbconvert_exporter": "python",
   "pygments_lexer": "ipython3",
   "version": "3.9.10"
  },
  "orig_nbformat": 4
 },
 "nbformat": 4,
 "nbformat_minor": 2
}
