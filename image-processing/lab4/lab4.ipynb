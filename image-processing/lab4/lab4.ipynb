{
 "cells": [
  {
   "cell_type": "code",
   "execution_count": 1,
   "metadata": {},
   "outputs": [],
   "source": [
    "import numpy as np\n",
    "import cv2\n",
    "from numpy.random import default_rng"
   ]
  },
  {
   "cell_type": "code",
   "execution_count": 2,
   "metadata": {},
   "outputs": [],
   "source": [
    "imgs = [\n",
    "  \"fig/2-1.jpg\"\n",
    "]\n",
    "\n",
    "def readi(index):\n",
    "  name = imgs[index]\n",
    "  img = cv2.imread(name)\n",
    "  return img\n",
    "\n",
    "def imgu8(img):\n",
    "  if img.dtype != np.uint8:\n",
    "    img = img * 255\n",
    "    img[img > 255] = 255\n",
    "  return np.uint8(img)\n",
    "\n",
    "def imgfloat(img):\n",
    "  if img.dtype == np.uint8:\n",
    "    return np.float32(img)/255\n",
    "  else:\n",
    "    return np.float32(img)\n",
    "\n",
    "def show(figname, img):\n",
    "  cv2.imshow(figname, img)\n",
    "  key = cv2.waitKey(0)\n",
    "  if key == 115: # Key 's'\n",
    "    if(img.dtype != np.uint8):\n",
    "      img = imgu8(img)\n",
    "    cv2.imwrite(\"fig/\"+figname.replace(' ', '_')+\".png\", img)\n",
    "  cv2.destroyWindow(figname)"
   ]
  },
  {
   "cell_type": "code",
   "execution_count": 3,
   "metadata": {},
   "outputs": [],
   "source": [
    "# 椒盐噪声\n",
    "def saltNoise(img, p):\n",
    "  rng = default_rng()\n",
    "  img = imgfloat(img)\n",
    "  y, x, c = img.shape\n",
    "  noise = rng.random(size=(y,x), dtype=np.float32)\n",
    "  if c == 3:\n",
    "    noise = cv2.cvtColor(noise, cv2.COLOR_GRAY2BGR)\n",
    "  img[noise < p] = 1\n",
    "  return imgu8(img)\n",
    "\n",
    "def gaussNoise(img, sigma):\n",
    "  rng = default_rng()\n",
    "  img = imgfloat(img)\n",
    "  y, x, c = img.shape\n",
    "  noise = rng.standard_normal(size=(y,x), dtype=np.float32) * sigma\n",
    "  if c == 3:\n",
    "    noise = cv2.cvtColor(noise, cv2.COLOR_GRAY2BGR)\n",
    "  img += noise\n",
    "  return imgu8(img)"
   ]
  },
  {
   "cell_type": "code",
   "execution_count": 4,
   "metadata": {},
   "outputs": [],
   "source": [
    "core_size = [\n",
    "  (3,3),\n",
    "  (7,7),\n",
    "  (15,15)\n",
    "]\n",
    "save = False\n",
    "img = readi(0)\n",
    "salt_img = saltNoise(img, 0.1)\n",
    "gauss_img = gaussNoise(img, 0.1)\n",
    "\n",
    "salt_blur = []\n",
    "salt_median = []\n",
    "gauss_blur = []\n",
    "gauss_median = []\n",
    "for core in core_size:\n",
    "  salt_blur.append(cv2.blur(salt_img, core, 0))\n",
    "  salt_median.append(cv2.medianBlur(salt_img, core[0], 0))\n",
    "  gauss_blur.append(cv2.blur(gauss_img, core, 0))\n",
    "  gauss_median.append(cv2.medianBlur(gauss_img, core[0], 0))"
   ]
  },
  {
   "cell_type": "code",
   "execution_count": 8,
   "metadata": {},
   "outputs": [],
   "source": [
    "save = True\n",
    "\n",
    "salt = np.hstack([img, salt_img])\n",
    "gauss = np.hstack([img, gauss_img])\n",
    "\n",
    "salt_blur3 = np.hstack(salt_blur)\n",
    "salt_median3 = np.hstack(salt_median)\n",
    "\n",
    "gauss_blur3 = np.hstack(gauss_blur)\n",
    "gauss_median3 = np.hstack(gauss_median)\n",
    "\n",
    "show(\"salt_noise\", salt, save)\n",
    "show(\"gauss_noise\", gauss, save)\n",
    "show(\"salt_blur\", salt_blur3, save)\n",
    "show(\"salt_median\", salt_median3, save)\n",
    "show(\"gauss_blur\", gauss_blur3, save)\n",
    "show(\"gauss_median\", gauss_median3, save)"
   ]
  }
 ],
 "metadata": {
  "interpreter": {
   "hash": "85ca0bb579958246286b95c44664a666ac4a968c6732d99bda48dfe0ff58c246"
  },
  "kernelspec": {
   "display_name": "Python 3.9.10 64-bit ('3.9.10')",
   "language": "python",
   "name": "python3"
  },
  "language_info": {
   "codemirror_mode": {
    "name": "ipython",
    "version": 3
   },
   "file_extension": ".py",
   "mimetype": "text/x-python",
   "name": "python",
   "nbconvert_exporter": "python",
   "pygments_lexer": "ipython3",
   "version": "3.9.10"
  },
  "orig_nbformat": 4
 },
 "nbformat": 4,
 "nbformat_minor": 2
}
