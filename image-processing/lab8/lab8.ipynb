{
 "cells": [
  {
   "cell_type": "code",
   "execution_count": null,
   "metadata": {},
   "outputs": [],
   "source": [
    "import cv2\n",
    "import queue\n",
    "import numpy as np\n",
    "import matplotlib.pyplot as plt\n",
    "from iplib import *"
   ]
  },
  {
   "cell_type": "code",
   "execution_count": null,
   "metadata": {},
   "outputs": [],
   "source": [
    "img = imgRead(\"1.png\")\n",
    "img = cv2.resize(img, np.array(img.shape[:2])[::-1]//5)\n",
    "imgPlot(img)\n",
    "plt.show()"
   ]
  },
  {
   "cell_type": "code",
   "execution_count": null,
   "metadata": {},
   "outputs": [],
   "source": [
    "def bfs(mask: np.ndarray, start: list, img: np.ndarray) -> np.ndarray:\n",
    "  res = img.copy()\n",
    "  q = queue.Queue()\n",
    "  q.put(start)\n",
    "  while not q.empty():\n",
    "    y, x = q.get()\n",
    "    if mask[y,x] == 0 and res[y,x] != 255:\n",
    "      res[y, x] = 255\n",
    "      if x - 1 >= 0:\n",
    "        q.put([y, x - 1])\n",
    "      if x + 1 < w:\n",
    "        q.put([y, x + 1])\n",
    "      if (y - 1 >= 0):\n",
    "        q.put([y - 1, x])\n",
    "      if (y + 1 < h):\n",
    "        q.put([y + 1, x])\n",
    "  return res\n",
    "\n",
    "def houghTrans(rho, theta):\n",
    "    a = np.cos(theta)\n",
    "    b = np.sin(theta)\n",
    "    x0 = rho * a\n",
    "    y0 = rho * b\n",
    "    x1 = int(x0 + 1000 * (-b))\n",
    "    y1 = int(y0 + 1000 * a)\n",
    "    x2 = int(x0 - 1000 * (-b))\n",
    "    y2 = int(y0 - 1000 * a)\n",
    "    return [(x1,y1), (x2,y2)]"
   ]
  },
  {
   "cell_type": "code",
   "execution_count": null,
   "metadata": {},
   "outputs": [],
   "source": [
    "gray = bgr2gray(img)\n",
    "edge = cv2.Canny(gray, 250, 255)\n",
    "bina = binary(gray, 170)\n",
    "figSize(30,20)\n",
    "imgs = [img, gray, bina, edge]\n",
    "imgPlotTable(imgs, len(imgs), 1)"
   ]
  },
  {
   "cell_type": "code",
   "execution_count": null,
   "metadata": {},
   "outputs": [],
   "source": [
    "lines = cv2.HoughLines(edge, 1, np.pi / 180, 120)\n",
    "left_bounds = []\n",
    "right_bounds = []\n",
    "for line in lines:\n",
    "    rho, theta = line[0]\n",
    "    rad = np.rad2deg(theta)\n",
    "    if rad > 30 and rad < 70:\n",
    "        left_bounds.append([rho, theta])\n",
    "    elif rad > 90:\n",
    "        right_bounds.append([rho, theta])\n",
    "    else:\n",
    "        continue\n",
    "\n",
    "left_bound = min(left_bounds, key = lambda x: x[1])\n",
    "right_bound = max(right_bounds, key = lambda x: x[1])\n",
    "\n",
    "mask1 = np.zeros_like(edge)\n",
    "tmp = img.copy()\n",
    "for rho, theta in left_bounds + [right_bound]:\n",
    "    p1, p2 = houghTrans(rho, theta)\n",
    "    cv2.line(mask1, p1, p2, (255), 1)\n",
    "    cv2.line(tmp, p1, p2, (0, 0, 255), 1)\n",
    "h, w = mask1.shape\n",
    "start_point = [h-1, w//2]\n",
    "res1 = bfs(mask1, start_point, gray)\n",
    "\n",
    "mask2 = np.zeros_like(edge)\n",
    "for rho, theta in left_bounds:\n",
    "    p1, p2 = houghTrans(rho, theta)\n",
    "    cv2.line(mask2, p1, p2, 255, 1)\n",
    "\n",
    "xmean = np.mean(np.arange(w)[mask2[h-1,:] > 0], dtype=np.intp)\n",
    "res2 = bfs(mask2, [h-1, xmean], gray)\n",
    "\n",
    "res2[res2 == 255] = 0\n",
    "lst = [tmp, res1, res2]\n",
    "figSize(20,20)\n",
    "imgPlotTable(lst, len(lst), 1)"
   ]
  }
 ],
 "metadata": {
  "interpreter": {
   "hash": "85ca0bb579958246286b95c44664a666ac4a968c6732d99bda48dfe0ff58c246"
  },
  "kernelspec": {
   "display_name": "Python 3.9.10 64-bit ('3.9.10')",
   "language": "python",
   "name": "python3"
  },
  "language_info": {
   "codemirror_mode": {
    "name": "ipython",
    "version": 3
   },
   "file_extension": ".py",
   "mimetype": "text/x-python",
   "name": "python",
   "nbconvert_exporter": "python",
   "pygments_lexer": "ipython3",
   "version": "3.9.10"
  },
  "orig_nbformat": 4
 },
 "nbformat": 4,
 "nbformat_minor": 2
}
